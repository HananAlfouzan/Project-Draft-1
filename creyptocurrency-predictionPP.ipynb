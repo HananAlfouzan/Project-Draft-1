{
 "cells": [
  {
   "cell_type": "code",
   "execution_count": 1,
   "id": "a69b01d9-f400-4036-bdf8-fbb6b0b8863f",
   "metadata": {},
   "outputs": [],
   "source": [
    "import numpy as np\n",
    "from matplotlib import pyplot as plt\n",
    "import pandas as pd\n",
    "import pandas_datareader as web\n",
    "import datetime as dt\n",
    "import yfinance as yf\n",
    "from pandas_datareader import data as pdr\n",
    "yf.pdr_override()"
   ]
  },
  {
   "cell_type": "code",
   "execution_count": 2,
   "id": "c9eff497-7fc6-4cac-9d9a-85ca8647f5ad",
   "metadata": {},
   "outputs": [],
   "source": [
    "from sklearn.preprocessing import MinMaxScaler\n",
    "from tensorflow.keras.layers import Dense, LSTM, Dropout\n",
    "from tensorflow.keras import Sequential"
   ]
  },
  {
   "cell_type": "code",
   "execution_count": 3,
   "id": "958451ea-ba51-42be-8950-ad1a7836ea95",
   "metadata": {},
   "outputs": [
    {
     "data": {
      "text/html": [
       "<div>\n",
       "<style scoped>\n",
       "    .dataframe tbody tr th:only-of-type {\n",
       "        vertical-align: middle;\n",
       "    }\n",
       "\n",
       "    .dataframe tbody tr th {\n",
       "        vertical-align: top;\n",
       "    }\n",
       "\n",
       "    .dataframe thead th {\n",
       "        text-align: right;\n",
       "    }\n",
       "</style>\n",
       "<table border=\"1\" class=\"dataframe\">\n",
       "  <thead>\n",
       "    <tr style=\"text-align: right;\">\n",
       "      <th></th>\n",
       "      <th>Close_BTC</th>\n",
       "      <th>Close_SAR</th>\n",
       "      <th>Close_NVDA</th>\n",
       "    </tr>\n",
       "    <tr>\n",
       "      <th>Date</th>\n",
       "      <th></th>\n",
       "      <th></th>\n",
       "      <th></th>\n",
       "    </tr>\n",
       "  </thead>\n",
       "  <tbody>\n",
       "    <tr>\n",
       "      <th>2018-01-02</th>\n",
       "      <td>14982.099609</td>\n",
       "      <td>3.740800</td>\n",
       "      <td>49.837502</td>\n",
       "    </tr>\n",
       "    <tr>\n",
       "      <th>2018-01-03</th>\n",
       "      <td>15201.000000</td>\n",
       "      <td>3.745700</td>\n",
       "      <td>53.117500</td>\n",
       "    </tr>\n",
       "    <tr>\n",
       "      <th>2018-01-04</th>\n",
       "      <td>15599.200195</td>\n",
       "      <td>3.746100</td>\n",
       "      <td>53.397499</td>\n",
       "    </tr>\n",
       "    <tr>\n",
       "      <th>2018-01-05</th>\n",
       "      <td>17429.500000</td>\n",
       "      <td>3.746200</td>\n",
       "      <td>53.849998</td>\n",
       "    </tr>\n",
       "    <tr>\n",
       "      <th>2018-01-08</th>\n",
       "      <td>15170.099609</td>\n",
       "      <td>3.750000</td>\n",
       "      <td>55.500000</td>\n",
       "    </tr>\n",
       "    <tr>\n",
       "      <th>...</th>\n",
       "      <td>...</td>\n",
       "      <td>...</td>\n",
       "      <td>...</td>\n",
       "    </tr>\n",
       "    <tr>\n",
       "      <th>2021-11-17</th>\n",
       "      <td>60368.011719</td>\n",
       "      <td>3.747404</td>\n",
       "      <td>292.609985</td>\n",
       "    </tr>\n",
       "    <tr>\n",
       "      <th>2021-11-18</th>\n",
       "      <td>56942.136719</td>\n",
       "      <td>3.746294</td>\n",
       "      <td>316.750000</td>\n",
       "    </tr>\n",
       "    <tr>\n",
       "      <th>2021-11-19</th>\n",
       "      <td>58119.578125</td>\n",
       "      <td>3.746619</td>\n",
       "      <td>329.850006</td>\n",
       "    </tr>\n",
       "    <tr>\n",
       "      <th>2021-11-22</th>\n",
       "      <td>56289.289062</td>\n",
       "      <td>3.750700</td>\n",
       "      <td>319.559998</td>\n",
       "    </tr>\n",
       "    <tr>\n",
       "      <th>2021-11-23</th>\n",
       "      <td>57569.074219</td>\n",
       "      <td>3.746441</td>\n",
       "      <td>317.459991</td>\n",
       "    </tr>\n",
       "  </tbody>\n",
       "</table>\n",
       "<p>861 rows × 3 columns</p>\n",
       "</div>"
      ],
      "text/plain": [
       "               Close_BTC  Close_SAR  Close_NVDA\n",
       "Date                                           \n",
       "2018-01-02  14982.099609   3.740800   49.837502\n",
       "2018-01-03  15201.000000   3.745700   53.117500\n",
       "2018-01-04  15599.200195   3.746100   53.397499\n",
       "2018-01-05  17429.500000   3.746200   53.849998\n",
       "2018-01-08  15170.099609   3.750000   55.500000\n",
       "...                  ...        ...         ...\n",
       "2021-11-17  60368.011719   3.747404  292.609985\n",
       "2021-11-18  56942.136719   3.746294  316.750000\n",
       "2021-11-19  58119.578125   3.746619  329.850006\n",
       "2021-11-22  56289.289062   3.750700  319.559998\n",
       "2021-11-23  57569.074219   3.746441  317.459991\n",
       "\n",
       "[861 rows x 3 columns]"
      ]
     },
     "execution_count": 3,
     "metadata": {},
     "output_type": "execute_result"
    }
   ],
   "source": [
    "start = dt.datetime(2018,1,1)\n",
    "end = dt.datetime.now()\n",
    "crypto_currency = 'BTC'\n",
    "against_currency = 'USD'\n",
    "local_currency= 'SAR=X'\n",
    "# SAR DATA\n",
    "data_local_currency = web.DataReader(local_currency, 'yahoo', start, end) \n",
    "data_local_currency = data_local_currency[['Close']]\n",
    "data_local_currency = data_local_currency.rename(columns = {'Close': 'Close_SAR'})\n",
    "#Bitcoin Data\n",
    "data = web.DataReader(f'{crypto_currency}-{against_currency}', 'yahoo', start, end) \n",
    "data = data[['Close']]\n",
    "data = data.rename(columns = {'Close': 'Close_BTC'})\n",
    "#NVDA Data\n",
    "df_NVDA=  web.DataReader('NVDA', 'yahoo', start, end) \n",
    "df_NVDA = df_NVDA[['Close']]\n",
    "df_NVDA = df_NVDA.rename(columns = {'Close': 'Close_NVDA'})\n",
    "\n",
    "#Merge Table\n",
    "data = data.merge(data_local_currency, on = 'Date')\n",
    "data = data.merge(df_NVDA, on = 'Date')\n",
    "data\n",
    "test_data=data\n",
    "test_data"
   ]
  },
  {
   "cell_type": "code",
   "execution_count": 4,
   "id": "749b591f-9b12-40cd-ac79-44fce67c23f8",
   "metadata": {},
   "outputs": [],
   "source": [
    "# df1 = web.DataReader('BTC', 'yahoo', start, end)\n",
    "# df1 = df1[['Close']]\n",
    "# df2 = web.DataReader('USD', 'yahoo', start, end)\n",
    "# df2 = df2[['Close']]\n",
    "# df = df1.merge(df2, on = 'Date')\n",
    "# df\n",
    "# df1 = pdr.get_data_yahoo('BTC', '2020-01-01', '2021-10-31')\n",
    "# df1 = df1[['Close']]\n",
    "# df2 = pdr.get_data_yahoo('USD', '2020-01-01', '2021-10-31')\n",
    "# df2 = df2[['Close']]\n",
    "# df = df1.merge(df2, on = 'Date')\n",
    "# df"
   ]
  },
  {
   "cell_type": "code",
   "execution_count": 5,
   "id": "7924e060-c0b0-4aa1-8223-7543abad880c",
   "metadata": {},
   "outputs": [],
   "source": [
    "scaler = MinMaxScaler(feature_range=(0,1))\n",
    "#x=data[['Close_x','Close_y']]\n",
    "#data_local_currency= data_local_currency['Close']\n",
    "#x = x.merge(data_local_currency, on = 'Date') \n",
    "scaled_data = scaler.fit_transform(data.values.reshape(-1,1))  \n"
   ]
  },
  {
   "cell_type": "code",
   "execution_count": 6,
   "id": "6604a7d5-2e80-4a87-9f61-e568caf3c7f6",
   "metadata": {},
   "outputs": [],
   "source": [
    "prediction_days = 60\n",
    "future_day = 30"
   ]
  },
  {
   "cell_type": "code",
   "execution_count": 7,
   "id": "35f5b37c-77e8-46e6-b956-f6529b60d8d6",
   "metadata": {},
   "outputs": [],
   "source": [
    "x_train, y_train = [], []"
   ]
  },
  {
   "cell_type": "code",
   "execution_count": 8,
   "id": "9e970864-67a4-404b-83c0-63b0a9aba184",
   "metadata": {},
   "outputs": [],
   "source": [
    "#for x in range(prediction_days, len(scaled_data)):\n",
    "#    x_train.append(scaled_data[x-prediction_days:x, 0])\n",
    "#    y_train.append(scaled_data[x, 0])\n",
    "\n",
    "# predicting the 30th day after 60 days\n",
    "for x in range(prediction_days, len(scaled_data)-future_day):\n",
    "    x_train.append(scaled_data[x-prediction_days:x, 0])\n",
    "    y_train.append(scaled_data[x+future_day, 0])\n",
    "x_train, y_train = np.array(x_train), np.array(y_train)\n",
    "x_train = np.reshape(x_train, (x_train.shape[0], x_train.shape[1], 1))"
   ]
  },
  {
   "cell_type": "code",
   "execution_count": null,
   "id": "cf99f7ba-3d49-426e-8d64-73f3d43eabb0",
   "metadata": {},
   "outputs": [
    {
     "name": "stdout",
     "output_type": "stream",
     "text": [
      "Epoch 1/25\n",
      "78/78 [==============================] - 20s 142ms/step - loss: 0.0319\n",
      "Epoch 2/25\n",
      "78/78 [==============================] - 12s 151ms/step - loss: 0.0315\n",
      "Epoch 3/25\n",
      "78/78 [==============================] - 11s 142ms/step - loss: 0.0320\n",
      "Epoch 4/25\n",
      "78/78 [==============================] - 13s 162ms/step - loss: 0.0311\n",
      "Epoch 5/25\n",
      "78/78 [==============================] - 11s 146ms/step - loss: 0.0311\n",
      "Epoch 6/25\n",
      "78/78 [==============================] - 11s 143ms/step - loss: 0.0311\n",
      "Epoch 7/25\n",
      "78/78 [==============================] - 11s 140ms/step - loss: 0.0313\n",
      "Epoch 8/25\n",
      "78/78 [==============================] - 10s 132ms/step - loss: 0.0311\n",
      "Epoch 9/25\n",
      "78/78 [==============================] - 11s 141ms/step - loss: 0.0309\n",
      "Epoch 10/25\n",
      "78/78 [==============================] - 10s 133ms/step - loss: 0.0311\n",
      "Epoch 11/25\n",
      "43/78 [===============>..............] - ETA: 5s - loss: 0.0316"
     ]
    }
   ],
   "source": [
    "#create Neural Network \n",
    "model = Sequential()\n",
    "model.add(LSTM(units=50, return_sequences=True, input_shape=(x_train.shape[1], 1)))\n",
    "model.add(Dropout(0.2))\n",
    "model.add(LSTM(units=50, return_sequences=True))\n",
    "model.add(Dropout(0.2))\n",
    "model.add(LSTM(units=50))\n",
    "model.add(Dropout(0.2))\n",
    "model.add(Dense(units=1))\n",
    "model.compile(optimizer='adam', loss='mean_squared_error')\n",
    "model.fit(x_train, y_train, epochs=25, batch_size=32)"
   ]
  },
  {
   "cell_type": "code",
   "execution_count": null,
   "id": "5ab2a331-d6ae-4db5-a944-4224f5a7213e",
   "metadata": {},
   "outputs": [],
   "source": [
    "test_data['Close_NVDA']"
   ]
  },
  {
   "cell_type": "code",
   "execution_count": 34,
   "id": "f13cd241-bd68-4aef-8a82-334ca87c0ec7",
   "metadata": {},
   "outputs": [
    {
     "data": {
      "text/plain": [
       "<function matplotlib.pyplot.show(close=None, block=None)>"
      ]
     },
     "execution_count": 34,
     "metadata": {},
     "output_type": "execute_result"
    },
    {
     "data": {
      "image/png": "[encoded data removed]",
      "text/plain": [
       "<Figure size 432x288 with 1 Axes>"
      ]
     },
     "metadata": {
      "needs_background": "light"
     },
     "output_type": "display_data"
    }
   ],
   "source": [
    "test_start = dt.datetime(2018,1,1)\n",
    "test_end = dt.datetime.now()\n",
    "#test_data = web.DataReader(f'{crypto_currency}-{against_currency}', 'yahoo', test_start, test_end)\n",
    "#test_data= Above defin\n",
    "actual_prices = test_data['Close_BTC'].values\n",
    "total_dataset = pd.concat((data['Close_BTC'], test_data['Close_BTC']), axis=0)\n",
    "model_inputs = total_dataset[len(total_dataset) - len(test_data) - prediction_days:].values\n",
    "model_inputs = model_inputs.reshape(-1, 1)\n",
    "model_inputs = scaler.fit_transform(model_inputs)\n",
    "x_test = []\n",
    "\n",
    "for x in range(prediction_days, len(model_inputs)):\n",
    "    x_test.append(model_inputs[x-prediction_days:x, 0])\n",
    "\n",
    "x_test = np.array(x_test)\n",
    "x_test = np.reshape(x_test, (x_test.shape[0], x_test.shape[1], 1))\n",
    "prediction_prices = model.predict(x_test)\n",
    "prediction_prices = scaler.inverse_transform(prediction_prices)\n",
    "\n",
    "plt.plot(actual_prices, color='black', label='Actual Prices')\n",
    "plt.plot(prediction_prices, color='green', label='Predicted Prices')\n",
    "plt.plot(test_data['Close_NVDA'].values, color='red', label='Prices')\n",
    "\n",
    "plt.title(f'{crypto_currency} price prediction')\n",
    "plt.xlabel('Time')\n",
    "plt.ylabel('Price')\n",
    "plt.legend(loc='upper left')\n",
    "plt.show"
   ]
  },
  {
   "cell_type": "code",
   "execution_count": 35,
   "id": "5c0f7030-c82f-485e-9647-fb292fa74b24",
   "metadata": {},
   "outputs": [
    {
     "data": {
      "text/plain": [
       "[<matplotlib.lines.Line2D at 0x25a577474f0>]"
      ]
     },
     "execution_count": 35,
     "metadata": {},
     "output_type": "execute_result"
    },
    {
     "data": {
      "image/png": "[encoded data removed]",
      "text/plain": [
       "<Figure size 432x288 with 1 Axes>"
      ]
     },
     "metadata": {
      "needs_background": "light"
     },
     "output_type": "display_data"
    }
   ],
   "source": [
    "plt.plot(test_data['Close_NVDA'].values, color='red', label='Prices')"
   ]
  },
  {
   "cell_type": "code",
   "execution_count": null,
   "id": "4ddf49ac-37ee-406c-af49-4881e625848c",
   "metadata": {},
   "outputs": [],
   "source": [
    "# Predict next day\n",
    "real_data = [model_inputs[len(model_inputs) + 1 - prediction_days:len(model_inputs) + 1, 0]]\n",
    "real_data = np.array(real_data)\n",
    "real_data = np.reshape(real_data, (real_data.shape[0], real_data.shape[1], 1))\n",
    "prediction = model.predict(real_data)\n",
    "prediction = scaler.inverse_transform(prediction)\n",
    "print()\n"
   ]
  },
  {
   "cell_type": "code",
   "execution_count": null,
   "id": "51b63a36-1d19-443b-a04d-09b8d28814c7",
   "metadata": {},
   "outputs": [],
   "source": []
  },
  {
   "cell_type": "code",
   "execution_count": null,
   "id": "ea4a4bdd-7ea8-48ad-84e1-88e66e6e0bc4",
   "metadata": {},
   "outputs": [],
   "source": []
  },
  {
   "cell_type": "code",
   "execution_count": null,
   "id": "da739d37-7ff5-4357-9734-98a93b1f987e",
   "metadata": {},
   "outputs": [],
   "source": [
    "       "
   ]
  }
 ],
 "metadata": {
  "kernelspec": {
   "display_name": "Python 3",
   "language": "python",
   "name": "python3"
  },
  "language_info": {
   "codemirror_mode": {
    "name": "ipython",
    "version": 3
   },
   "file_extension": ".py",
   "mimetype": "text/x-python",
   "name": "python",
   "nbconvert_exporter": "python",
   "pygments_lexer": "ipython3",
   "version": "3.8.8"
  }
 },
 "nbformat": 4,
 "nbformat_minor": 5
}
